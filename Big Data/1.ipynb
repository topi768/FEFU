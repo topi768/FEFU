{
 "cells": [
  {
   "cell_type": "code",
   "id": "initial_id",
   "metadata": {
    "collapsed": true,
    "ExecuteTime": {
     "end_time": "2025-10-03T14:19:08.002036Z",
     "start_time": "2025-10-03T14:19:07.996169Z"
    }
   },
   "source": [
    "from enum import unique\n",
    "\n",
    "import pandas as pd\n",
    "import numpy as np\n",
    "# https://www.kaggle.com/datasets/kamilpytlak/personal-key-indicators-of-heart-disease"
   ],
   "outputs": [],
   "execution_count": 246
  },
  {
   "metadata": {
    "ExecuteTime": {
     "end_time": "2025-10-03T14:19:12.124726Z",
     "start_time": "2025-10-03T14:19:08.031412Z"
    }
   },
   "cell_type": "code",
   "source": [
    "df = pd.read_csv('heart_2022_with_nans.csv')\n",
    "target = df.pop('HadHeartAttack')\n",
    "df = df.drop(\"RemovedTeeth\", axis=1)\n",
    "df['HadHeartAttack'] = target\n",
    "df.head(5)\n"
   ],
   "id": "47a22bad731dd753",
   "outputs": [
    {
     "data": {
      "text/plain": [
       "     State     Sex GeneralHealth  PhysicalHealthDays  MentalHealthDays  \\\n",
       "0  Alabama  Female     Very good                 0.0               0.0   \n",
       "1  Alabama  Female     Excellent                 0.0               0.0   \n",
       "2  Alabama  Female     Very good                 2.0               3.0   \n",
       "3  Alabama  Female     Excellent                 0.0               0.0   \n",
       "4  Alabama  Female          Fair                 2.0               0.0   \n",
       "\n",
       "                                     LastCheckupTime PhysicalActivities  \\\n",
       "0  Within past year (anytime less than 12 months ...                 No   \n",
       "1                                                NaN                 No   \n",
       "2  Within past year (anytime less than 12 months ...                Yes   \n",
       "3  Within past year (anytime less than 12 months ...                Yes   \n",
       "4  Within past year (anytime less than 12 months ...                Yes   \n",
       "\n",
       "   SleepHours HadAngina HadStroke  ... WeightInKilograms    BMI  \\\n",
       "0         8.0        No        No  ...               NaN    NaN   \n",
       "1         6.0        No        No  ...             68.04  26.57   \n",
       "2         5.0        No        No  ...             63.50  25.61   \n",
       "3         7.0        No        No  ...             63.50  23.30   \n",
       "4         9.0        No        No  ...             53.98  21.77   \n",
       "\n",
       "  AlcoholDrinkers HIVTesting FluVaxLast12 PneumoVaxEver  \\\n",
       "0              No         No          Yes            No   \n",
       "1              No         No           No            No   \n",
       "2              No         No           No            No   \n",
       "3              No         No          Yes           Yes   \n",
       "4             Yes         No           No           Yes   \n",
       "\n",
       "                                   TetanusLast10Tdap HighRiskLastYear  \\\n",
       "0  Yes, received tetanus shot but not sure what type               No   \n",
       "1  No, did not receive any tetanus shot in the pa...               No   \n",
       "2                                                NaN               No   \n",
       "3  No, did not receive any tetanus shot in the pa...               No   \n",
       "4  No, did not receive any tetanus shot in the pa...               No   \n",
       "\n",
       "  CovidPos HadHeartAttack  \n",
       "0       No             No  \n",
       "1       No             No  \n",
       "2      Yes             No  \n",
       "3       No             No  \n",
       "4       No             No  \n",
       "\n",
       "[5 rows x 39 columns]"
      ],
      "text/html": [
       "<div>\n",
       "<style scoped>\n",
       "    .dataframe tbody tr th:only-of-type {\n",
       "        vertical-align: middle;\n",
       "    }\n",
       "\n",
       "    .dataframe tbody tr th {\n",
       "        vertical-align: top;\n",
       "    }\n",
       "\n",
       "    .dataframe thead th {\n",
       "        text-align: right;\n",
       "    }\n",
       "</style>\n",
       "<table border=\"1\" class=\"dataframe\">\n",
       "  <thead>\n",
       "    <tr style=\"text-align: right;\">\n",
       "      <th></th>\n",
       "      <th>State</th>\n",
       "      <th>Sex</th>\n",
       "      <th>GeneralHealth</th>\n",
       "      <th>PhysicalHealthDays</th>\n",
       "      <th>MentalHealthDays</th>\n",
       "      <th>LastCheckupTime</th>\n",
       "      <th>PhysicalActivities</th>\n",
       "      <th>SleepHours</th>\n",
       "      <th>HadAngina</th>\n",
       "      <th>HadStroke</th>\n",
       "      <th>...</th>\n",
       "      <th>WeightInKilograms</th>\n",
       "      <th>BMI</th>\n",
       "      <th>AlcoholDrinkers</th>\n",
       "      <th>HIVTesting</th>\n",
       "      <th>FluVaxLast12</th>\n",
       "      <th>PneumoVaxEver</th>\n",
       "      <th>TetanusLast10Tdap</th>\n",
       "      <th>HighRiskLastYear</th>\n",
       "      <th>CovidPos</th>\n",
       "      <th>HadHeartAttack</th>\n",
       "    </tr>\n",
       "  </thead>\n",
       "  <tbody>\n",
       "    <tr>\n",
       "      <th>0</th>\n",
       "      <td>Alabama</td>\n",
       "      <td>Female</td>\n",
       "      <td>Very good</td>\n",
       "      <td>0.0</td>\n",
       "      <td>0.0</td>\n",
       "      <td>Within past year (anytime less than 12 months ...</td>\n",
       "      <td>No</td>\n",
       "      <td>8.0</td>\n",
       "      <td>No</td>\n",
       "      <td>No</td>\n",
       "      <td>...</td>\n",
       "      <td>NaN</td>\n",
       "      <td>NaN</td>\n",
       "      <td>No</td>\n",
       "      <td>No</td>\n",
       "      <td>Yes</td>\n",
       "      <td>No</td>\n",
       "      <td>Yes, received tetanus shot but not sure what type</td>\n",
       "      <td>No</td>\n",
       "      <td>No</td>\n",
       "      <td>No</td>\n",
       "    </tr>\n",
       "    <tr>\n",
       "      <th>1</th>\n",
       "      <td>Alabama</td>\n",
       "      <td>Female</td>\n",
       "      <td>Excellent</td>\n",
       "      <td>0.0</td>\n",
       "      <td>0.0</td>\n",
       "      <td>NaN</td>\n",
       "      <td>No</td>\n",
       "      <td>6.0</td>\n",
       "      <td>No</td>\n",
       "      <td>No</td>\n",
       "      <td>...</td>\n",
       "      <td>68.04</td>\n",
       "      <td>26.57</td>\n",
       "      <td>No</td>\n",
       "      <td>No</td>\n",
       "      <td>No</td>\n",
       "      <td>No</td>\n",
       "      <td>No, did not receive any tetanus shot in the pa...</td>\n",
       "      <td>No</td>\n",
       "      <td>No</td>\n",
       "      <td>No</td>\n",
       "    </tr>\n",
       "    <tr>\n",
       "      <th>2</th>\n",
       "      <td>Alabama</td>\n",
       "      <td>Female</td>\n",
       "      <td>Very good</td>\n",
       "      <td>2.0</td>\n",
       "      <td>3.0</td>\n",
       "      <td>Within past year (anytime less than 12 months ...</td>\n",
       "      <td>Yes</td>\n",
       "      <td>5.0</td>\n",
       "      <td>No</td>\n",
       "      <td>No</td>\n",
       "      <td>...</td>\n",
       "      <td>63.50</td>\n",
       "      <td>25.61</td>\n",
       "      <td>No</td>\n",
       "      <td>No</td>\n",
       "      <td>No</td>\n",
       "      <td>No</td>\n",
       "      <td>NaN</td>\n",
       "      <td>No</td>\n",
       "      <td>Yes</td>\n",
       "      <td>No</td>\n",
       "    </tr>\n",
       "    <tr>\n",
       "      <th>3</th>\n",
       "      <td>Alabama</td>\n",
       "      <td>Female</td>\n",
       "      <td>Excellent</td>\n",
       "      <td>0.0</td>\n",
       "      <td>0.0</td>\n",
       "      <td>Within past year (anytime less than 12 months ...</td>\n",
       "      <td>Yes</td>\n",
       "      <td>7.0</td>\n",
       "      <td>No</td>\n",
       "      <td>No</td>\n",
       "      <td>...</td>\n",
       "      <td>63.50</td>\n",
       "      <td>23.30</td>\n",
       "      <td>No</td>\n",
       "      <td>No</td>\n",
       "      <td>Yes</td>\n",
       "      <td>Yes</td>\n",
       "      <td>No, did not receive any tetanus shot in the pa...</td>\n",
       "      <td>No</td>\n",
       "      <td>No</td>\n",
       "      <td>No</td>\n",
       "    </tr>\n",
       "    <tr>\n",
       "      <th>4</th>\n",
       "      <td>Alabama</td>\n",
       "      <td>Female</td>\n",
       "      <td>Fair</td>\n",
       "      <td>2.0</td>\n",
       "      <td>0.0</td>\n",
       "      <td>Within past year (anytime less than 12 months ...</td>\n",
       "      <td>Yes</td>\n",
       "      <td>9.0</td>\n",
       "      <td>No</td>\n",
       "      <td>No</td>\n",
       "      <td>...</td>\n",
       "      <td>53.98</td>\n",
       "      <td>21.77</td>\n",
       "      <td>Yes</td>\n",
       "      <td>No</td>\n",
       "      <td>No</td>\n",
       "      <td>Yes</td>\n",
       "      <td>No, did not receive any tetanus shot in the pa...</td>\n",
       "      <td>No</td>\n",
       "      <td>No</td>\n",
       "      <td>No</td>\n",
       "    </tr>\n",
       "  </tbody>\n",
       "</table>\n",
       "<p>5 rows × 39 columns</p>\n",
       "</div>"
      ]
     },
     "execution_count": 247,
     "metadata": {},
     "output_type": "execute_result"
    }
   ],
   "execution_count": 247
  },
  {
   "metadata": {
    "ExecuteTime": {
     "end_time": "2025-10-03T14:19:12.151413Z",
     "start_time": "2025-10-03T14:19:12.143501Z"
    }
   },
   "cell_type": "code",
   "source": "df.shape",
   "id": "be8282daf974c27d",
   "outputs": [
    {
     "data": {
      "text/plain": [
       "(445132, 39)"
      ]
     },
     "execution_count": 248,
     "metadata": {},
     "output_type": "execute_result"
    }
   ],
   "execution_count": 248
  },
  {
   "metadata": {},
   "cell_type": "markdown",
   "source": "## 1. Missing value",
   "id": "c4f4f7a599967804"
  },
  {
   "metadata": {
    "ExecuteTime": {
     "end_time": "2025-10-03T14:19:13.030327Z",
     "start_time": "2025-10-03T14:19:12.218269Z"
    }
   },
   "cell_type": "code",
   "source": [
    "percent_na = df.isna().mean() * 100\n",
    "print(percent_na)"
   ],
   "id": "2c78b8497cefad20",
   "outputs": [
    {
     "name": "stdout",
     "output_type": "stream",
     "text": [
      "State                         0.000000\n",
      "Sex                           0.000000\n",
      "GeneralHealth                 0.269134\n",
      "PhysicalHealthDays            2.454777\n",
      "MentalHealthDays              2.036924\n",
      "LastCheckupTime               1.866413\n",
      "PhysicalActivities            0.245545\n",
      "SleepHours                    1.225030\n",
      "HadAngina                     0.989594\n",
      "HadStroke                     0.349784\n",
      "HadAsthma                     0.398309\n",
      "HadSkinCancer                 0.706083\n",
      "HadCOPD                       0.498504\n",
      "HadDepressiveDisorder         0.631723\n",
      "HadKidneyDisease              0.432681\n",
      "HadArthritis                  0.591510\n",
      "HadDiabetes                   0.244197\n",
      "DeafOrHardOfHearing           4.638399\n",
      "BlindOrVisionDifficulty       4.844406\n",
      "DifficultyConcentrating       5.445576\n",
      "DifficultyWalking             5.394355\n",
      "DifficultyDressingBathing     5.372564\n",
      "DifficultyErrands             5.763684\n",
      "SmokerStatus                  7.966626\n",
      "ECigaretteUsage               8.011107\n",
      "ChestScan                    12.590872\n",
      "RaceEthnicityCategory         3.157940\n",
      "AgeCategory                   2.039620\n",
      "HeightInMeters                6.436742\n",
      "WeightInKilograms             9.452926\n",
      "BMI                          10.964388\n",
      "AlcoholDrinkers              10.462964\n",
      "HIVTesting                   14.855593\n",
      "FluVaxLast12                 10.585849\n",
      "PneumoVaxEver                17.307226\n",
      "TetanusLast10Tdap            18.537423\n",
      "HighRiskLastYear             11.372582\n",
      "CovidPos                     11.404258\n",
      "HadHeartAttack                0.688560\n",
      "dtype: float64\n"
     ]
    }
   ],
   "execution_count": 249
  },
  {
   "metadata": {
    "ExecuteTime": {
     "end_time": "2025-10-03T14:19:15.715511Z",
     "start_time": "2025-10-03T14:19:13.042456Z"
    }
   },
   "cell_type": "code",
   "source": [
    "cols_up_to_5 = percent_na[percent_na <= 5].index.tolist()\n",
    "cols_5_to_15 = percent_na[(percent_na > 5) & (percent_na <= 15)].index.tolist()\n",
    "cols_above_15 = percent_na[percent_na > 15].index.tolist()\n",
    "\n",
    "for col_name in cols_up_to_5:\n",
    "    df[col_name] = df[col_name].fillna(df[col_name].mode()[0])\n",
    "\n",
    "for col_name in cols_5_to_15:\n",
    "    df[col_name] = df[col_name].fillna(df[col_name].mode()[0])\n",
    "\n",
    "for col_name in cols_above_15:\n",
    "    df[col_name] = df[col_name].fillna(df[col_name].mode()[0])\n",
    "\n"
   ],
   "id": "fb165ea0ab580c20",
   "outputs": [],
   "execution_count": 250
  },
  {
   "metadata": {},
   "cell_type": "markdown",
   "source": "## 2.Data Type Conversion\n",
   "id": "b1d173781004769b"
  },
  {
   "metadata": {
    "ExecuteTime": {
     "end_time": "2025-10-03T14:19:15.734138Z",
     "start_time": "2025-10-03T14:19:15.728322Z"
    }
   },
   "cell_type": "code",
   "source": [
    "numeric_cols = [\n",
    "    'PhysicalHealthDays', 'MentalHealthDays', 'SleepHours',\n",
    "    'HeightInMeters', 'WeightInKilograms', 'BMI'\n",
    "]\n",
    "\n",
    "binary_like_cols = [\n",
    "    'PhysicalActivities','HadAngina','HadStroke','HadAsthma','HadSkinCancer',\n",
    "    'HadCOPD','HadDepressiveDisorder','HadKidneyDisease','HadArthritis',\n",
    "    'HadHeartAttack','FluVaxLast12','PneumoVaxEver',\n",
    "    'HIVTesting','CovidPos','HighRiskLastYear', \"AlcoholDrinkers\", \"ChestScan\"\n",
    "]\n",
    "\n",
    "categorical_cols = [\n",
    "    'State','Sex','GeneralHealth','LastCheckupTime','RaceEthnicityCategory','AgeCategory',\n",
    "    'SmokerStatus','ECigaretteUsage','TetanusLast10Tdap',\n",
    "]\n"
   ],
   "id": "5a2a7c633909925c",
   "outputs": [],
   "execution_count": 251
  },
  {
   "metadata": {
    "ExecuteTime": {
     "end_time": "2025-10-03T14:19:15.783081Z",
     "start_time": "2025-10-03T14:19:15.747441Z"
    }
   },
   "cell_type": "code",
   "source": [
    "for name_col in numeric_cols:\n",
    "    df[name_col] = df[name_col].astype(float)\n",
    "\n"
   ],
   "id": "73d9d78e92c96b86",
   "outputs": [],
   "execution_count": 252
  },
  {
   "metadata": {
    "ExecuteTime": {
     "end_time": "2025-10-03T14:19:16.267024Z",
     "start_time": "2025-10-03T14:19:15.799031Z"
    }
   },
   "cell_type": "code",
   "source": [
    "for name_col in binary_like_cols:\n",
    "    print(name_col+ ': ', df[name_col].unique())"
   ],
   "id": "5afbfb8b15219fa4",
   "outputs": [
    {
     "name": "stdout",
     "output_type": "stream",
     "text": [
      "PhysicalActivities:  ['No' 'Yes']\n",
      "HadAngina:  ['No' 'Yes']\n",
      "HadStroke:  ['No' 'Yes']\n",
      "HadAsthma:  ['No' 'Yes']\n",
      "HadSkinCancer:  ['No' 'Yes']\n",
      "HadCOPD:  ['No' 'Yes']\n",
      "HadDepressiveDisorder:  ['No' 'Yes']\n",
      "HadKidneyDisease:  ['No' 'Yes']\n",
      "HadArthritis:  ['No' 'Yes']\n",
      "HadHeartAttack:  ['No' 'Yes']\n",
      "FluVaxLast12:  ['Yes' 'No']\n",
      "PneumoVaxEver:  ['No' 'Yes']\n",
      "HIVTesting:  ['No' 'Yes']\n",
      "CovidPos:  ['No' 'Yes'\n",
      " 'Tested positive using home test without a health professional']\n",
      "HighRiskLastYear:  ['No' 'Yes']\n",
      "AlcoholDrinkers:  ['No' 'Yes']\n",
      "ChestScan:  ['No' 'Yes']\n"
     ]
    }
   ],
   "execution_count": 253
  },
  {
   "metadata": {
    "ExecuteTime": {
     "end_time": "2025-10-03T14:19:16.339791Z",
     "start_time": "2025-10-03T14:19:16.293059Z"
    }
   },
   "cell_type": "code",
   "source": "df['HadDiabetes'].value_counts()",
   "id": "2d80e82b0d8ddfd1",
   "outputs": [
    {
     "data": {
      "text/plain": [
       "HadDiabetes\n",
       "No                                         369809\n",
       "Yes                                         61158\n",
       "No, pre-diabetes or borderline diabetes     10329\n",
       "Yes, but only during pregnancy (female)      3836\n",
       "Name: count, dtype: int64"
      ]
     },
     "execution_count": 254,
     "metadata": {},
     "output_type": "execute_result"
    }
   ],
   "execution_count": 254
  },
  {
   "metadata": {},
   "cell_type": "markdown",
   "source": "Хочу сделать наличие диабета бинарным. весь мусор закину в новые фичи и сделаю диабет бинарным",
   "id": "968e4709ef357cf1"
  },
  {
   "metadata": {
    "ExecuteTime": {
     "end_time": "2025-10-03T14:19:16.615785Z",
     "start_time": "2025-10-03T14:19:16.352104Z"
    }
   },
   "cell_type": "code",
   "source": [
    "df['prediabetes'] = 0\n",
    "df['gestational_diabetes'] = 0\n",
    "\n",
    "mask_prediabetes = df[\"HadDiabetes\"].str.contains('No, pre-diabetes or borderline diabetes')\n",
    "\n",
    "mask_gestational_diabetes = df[\"HadDiabetes\"].str.contains('Yes, but only during pregnancy (female)', regex=False)"
   ],
   "id": "d2f882eaad0861e2",
   "outputs": [],
   "execution_count": 255
  },
  {
   "metadata": {
    "ExecuteTime": {
     "end_time": "2025-10-03T14:19:16.639686Z",
     "start_time": "2025-10-03T14:19:16.627601Z"
    }
   },
   "cell_type": "code",
   "source": [
    "df.loc[mask_prediabetes, \"prediabetes\"] = 1\n",
    "df.loc[mask_gestational_diabetes, \"gestational_diabetes\"] = 1\n"
   ],
   "id": "daeb30bf14e0f69a",
   "outputs": [],
   "execution_count": 256
  },
  {
   "metadata": {
    "ExecuteTime": {
     "end_time": "2025-10-03T14:19:17.079232Z",
     "start_time": "2025-10-03T14:19:16.656270Z"
    }
   },
   "cell_type": "code",
   "source": [
    "mask_true = df['HadDiabetes'].isin(['Yes', 'No, pre-diabetes or borderline diabetes'])\n",
    "df.loc[mask_true, 'HadDiabetes_binary'] = 1\n",
    "\n",
    "mask_false = df['HadDiabetes'] == 'No'\n",
    "df.loc[mask_false, 'HadDiabetes_binary'] = 0\n",
    "\n",
    "print(df['HadDiabetes_binary'].value_counts())\n",
    "df = df.drop('HadDiabetes', axis=1)\n"
   ],
   "id": "1947c54e65c0d426",
   "outputs": [
    {
     "name": "stdout",
     "output_type": "stream",
     "text": [
      "HadDiabetes_binary\n",
      "0.0    369809\n",
      "1.0     71487\n",
      "Name: count, dtype: int64\n"
     ]
    }
   ],
   "execution_count": 257
  },
  {
   "metadata": {
    "ExecuteTime": {
     "end_time": "2025-10-03T14:19:17.157164Z",
     "start_time": "2025-10-03T14:19:17.091079Z"
    }
   },
   "cell_type": "code",
   "source": [
    "\n",
    "df['CovidPos'] = df['CovidPos'].replace(\n",
    "    'Tested positive using home test without a health professional', 'Yes'\n",
    ")\n"
   ],
   "id": "82d1ff09d32007b5",
   "outputs": [],
   "execution_count": 258
  },
  {
   "metadata": {},
   "cell_type": "markdown",
   "source": "## 3. Dublicate Removal\n",
   "id": "29575d3d9f22eaf4"
  },
  {
   "metadata": {
    "ExecuteTime": {
     "end_time": "2025-10-03T14:19:18.935768Z",
     "start_time": "2025-10-03T14:19:17.173314Z"
    }
   },
   "cell_type": "code",
   "source": [
    "print(df.shape)\n",
    "df = df.drop_duplicates()\n",
    "print(df.shape)\n"
   ],
   "id": "422397288311e7c7",
   "outputs": [
    {
     "name": "stdout",
     "output_type": "stream",
     "text": [
      "(445132, 41)\n",
      "(444575, 41)\n"
     ]
    }
   ],
   "execution_count": 259
  },
  {
   "metadata": {},
   "cell_type": "markdown",
   "source": [
    "## 4. Ouliver Removal\n",
    "Выбросов не нашел\n"
   ],
   "id": "f15682d74a6047e3"
  },
  {
   "metadata": {},
   "cell_type": "markdown",
   "source": "## 5.  Encoding\n",
   "id": "fc4093ee6c713b85"
  },
  {
   "metadata": {
    "ExecuteTime": {
     "end_time": "2025-10-03T14:19:18.993634Z",
     "start_time": "2025-10-03T14:19:18.946040Z"
    }
   },
   "cell_type": "code",
   "source": "df['Sex'] = df['Sex'].map({\"Male\": 1, \"Female\": 0}).astype(int)\n",
   "id": "4a62e66b13f7ddcc",
   "outputs": [],
   "execution_count": 260
  },
  {
   "metadata": {
    "ExecuteTime": {
     "end_time": "2025-10-03T14:19:19.046910Z",
     "start_time": "2025-10-03T14:19:19.002588Z"
    }
   },
   "cell_type": "code",
   "source": "df['GeneralHealth'] = df['GeneralHealth'].map({\"Poor\": 1, \"Fair\": 2, 'Good': 3, 'Very good': 4, 'Excellent': 5 }).astype(int)\n",
   "id": "2d7661aa265799bc",
   "outputs": [],
   "execution_count": 261
  },
  {
   "metadata": {
    "ExecuteTime": {
     "end_time": "2025-10-03T14:19:19.103599Z",
     "start_time": "2025-10-03T14:19:19.057740Z"
    }
   },
   "cell_type": "code",
   "source": [
    "df['LastCheckupTime'] = df['LastCheckupTime'].map({\n",
    "    'Within past year (anytime less than 12 months ago)': 1,\n",
    "    'Within past 2 years (1 year but less than 2 years ago)': 2,\n",
    "    'Within past 5 years (2 years but less than 5 years ago)': 3,\n",
    "    '5 or more years ago': 4\n",
    "}).astype(int)"
   ],
   "id": "8b530fef8b9d4d0d",
   "outputs": [],
   "execution_count": 262
  },
  {
   "metadata": {
    "ExecuteTime": {
     "end_time": "2025-10-03T14:19:19.118402Z",
     "start_time": "2025-10-03T14:19:19.115301Z"
    }
   },
   "cell_type": "code",
   "source": "### Перевожу бинарные колонки",
   "id": "13c792baebb13895",
   "outputs": [],
   "execution_count": null
  },
  {
   "metadata": {
    "ExecuteTime": {
     "end_time": "2025-10-03T14:19:19.897922Z",
     "start_time": "2025-10-03T14:19:19.134958Z"
    }
   },
   "cell_type": "code",
   "source": [
    "feature_names = df.columns.tolist()\n",
    "cur_name = feature_names[8]\n",
    "# print(cur_name + \": \", df[cur_name].unique())\n",
    "for i in binary_like_cols:\n",
    "    df[i] = df[i].map({\n",
    "    'Yes': 1,\n",
    "    'No': 0,\n",
    "}).astype(int)\n",
    "    print(i + \": \", df[i].unique())"
   ],
   "id": "5b75fb3f06c05afe",
   "outputs": [
    {
     "name": "stdout",
     "output_type": "stream",
     "text": [
      "PhysicalActivities:  [0 1]\n",
      "HadAngina:  [0 1]\n",
      "HadStroke:  [0 1]\n",
      "HadAsthma:  [0 1]\n",
      "HadSkinCancer:  [0 1]\n",
      "HadCOPD:  [0 1]\n",
      "HadDepressiveDisorder:  [0 1]\n",
      "HadKidneyDisease:  [0 1]\n",
      "HadArthritis:  [0 1]\n",
      "HadHeartAttack:  [0 1]\n",
      "FluVaxLast12:  [1 0]\n",
      "PneumoVaxEver:  [0 1]\n",
      "HIVTesting:  [0 1]\n",
      "CovidPos:  [0 1]\n",
      "HighRiskLastYear:  [0 1]\n",
      "AlcoholDrinkers:  [0 1]\n",
      "ChestScan:  [0 1]\n"
     ]
    }
   ],
   "execution_count": 263
  },
  {
   "metadata": {
    "ExecuteTime": {
     "end_time": "2025-10-03T14:21:36.798710Z",
     "start_time": "2025-10-03T14:21:35.961430Z"
    }
   },
   "cell_type": "code",
   "source": "df = pd.get_dummies(df, columns=categorical_cols, drop_first=False)\n",
   "id": "a1d49200e80a8d96",
   "outputs": [],
   "execution_count": 265
  },
  {
   "metadata": {},
   "cell_type": "markdown",
   "source": "## 6. Feature Scaling\n",
   "id": "32c0ff36b18c026d"
  },
  {
   "metadata": {
    "ExecuteTime": {
     "end_time": "2025-10-03T14:27:10.492142Z",
     "start_time": "2025-10-03T14:27:04.197279Z"
    }
   },
   "cell_type": "code",
   "source": [
    "from  sklearn.preprocessing import StandardScaler\n",
    "\n",
    "scaler = StandardScaler()\n",
    "\n",
    "\n",
    "df[numeric_cols] = scaler.fit_transform(df[numeric_cols])"
   ],
   "id": "fae0e057fa72a6e6",
   "outputs": [],
   "execution_count": 278
  },
  {
   "metadata": {
    "ExecuteTime": {
     "end_time": "2025-10-03T14:26:41.082421Z",
     "start_time": "2025-10-03T14:26:41.031557Z"
    }
   },
   "cell_type": "markdown",
   "source": [
    "## 7. Datetime Feature Engineering\n",
    "их тут нет"
   ],
   "id": "9f17af61c2c38820"
  }
 ],
 "metadata": {
  "kernelspec": {
   "display_name": "Python 3",
   "language": "python",
   "name": "python3"
  },
  "language_info": {
   "codemirror_mode": {
    "name": "ipython",
    "version": 2
   },
   "file_extension": ".py",
   "mimetype": "text/x-python",
   "name": "python",
   "nbconvert_exporter": "python",
   "pygments_lexer": "ipython2",
   "version": "2.7.6"
  }
 },
 "nbformat": 4,
 "nbformat_minor": 5
}
